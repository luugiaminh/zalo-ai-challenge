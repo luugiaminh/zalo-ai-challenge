{
 "cells": [
  {
   "cell_type": "code",
   "execution_count": 8,
   "metadata": {},
   "outputs": [],
   "source": [
    "import numpy as np\n",
    "import pandas as pd\n",
    "import json\n",
    "import os"
   ]
  },
  {
   "cell_type": "code",
   "execution_count": 16,
   "metadata": {},
   "outputs": [],
   "source": [
    "def predict_to_df(filepath):\n",
    "    f = open(filepath,  encoding=\"utf8\")\n",
    "    label = json.load(f)\n",
    "    columns = ['d', 's', 'e', 'key', 'sentences']\n",
    "    dfs = []\n",
    "    # df = pd.DataFrame(columns = ['d', 's', 'e', 'key', 'sentences'])\n",
    "    sen_index = 0\n",
    "    word_index = 0\n",
    "    for sen in label:\n",
    "        for word in sen['l']:\n",
    "            d = word['d']\n",
    "            s = word['s']\n",
    "            e = word['e']\n",
    "            dfs.append([d, s, e, d+str(word_index), sen_index])\n",
    "            # df = df.append({'d':d, 's':s, 'e':e, 'key':d+str(word_index), 'sentences':sen_index}, ignore_index=True)\n",
    "            word_index += 1\n",
    "        sen_index += 1\n",
    "    f.close()\n",
    "    dfs = pd.DataFrame(dfs, columns = columns)\n",
    "    return dfs"
   ]
  },
  {
   "cell_type": "code",
   "execution_count": 17,
   "metadata": {},
   "outputs": [],
   "source": [
    "def label_to_df(filepath):\n",
    "    f = open(filepath,  encoding=\"utf8\")\n",
    "    label = json.load(f)\n",
    "    # df = pd.DataFrame(columns = ['d', 's', 'e', 'key', 'sentences'])\n",
    "    columns = ['d', 's', 'e', 'key', 'sentences']\n",
    "    dfs = []\n",
    "    sen_index = 0\n",
    "    word_index = 0\n",
    "    for sen in label:\n",
    "        for word in sen['l']:\n",
    "            d = word['d']\n",
    "            s = word['s']\n",
    "            e = word['e']\n",
    "            dfs.append([d, s, e, d+str(word_index), sen_index])\n",
    "            # df = df.append({'d':d, 's':s, 'e':e, 'key':d+str(word_index), 'sentences':sen_index}, ignore_index=True)\n",
    "            word_index += 1\n",
    "        sen_index += 1\n",
    "    f.close()\n",
    "    dfs = pd.DataFrame(dfs, columns = columns)\n",
    "    return dfs"
   ]
  },
  {
   "cell_type": "code",
   "execution_count": 7,
   "metadata": {},
   "outputs": [],
   "source": [
    "def IoU(label_dir, predict_dir, filename):\n",
    "#     config path file\n",
    "    label_path = os.path.join(label_dir, filename + '.json')\n",
    "    predict_path = os.path.join(predict_dir, filename + '.json')\n",
    "#     read data\n",
    "    df_predict = predict_to_df(predict_path)\n",
    "    df_label = label_to_df(label_path)\n",
    "    \n",
    "#     calculate\n",
    "    df_join = pd.merge(left=df_label, right=df_predict, on='key', how='left')\n",
    "    df_join = df_join.fillna(0) #     fill na elements\n",
    "    df_join['s_min'] = np.where((df_join['s_x'] >= df_join['s_y']), df_join['s_y'], df_join['s_x'])\n",
    "    df_join['e_max'] = np.where((df_join['e_x'] >= df_join['e_y']), df_join['e_x'], df_join['e_y'])\n",
    "    df_join['union'] = df_join['e_max'] - df_join['s_min']\n",
    "    df_join['inter'] = df_join['union'] - np.abs(df_join['s_x']-df_join['s_y']) - np.abs(df_join['e_x']-df_join['e_y'])\n",
    "    df_join['inter'] = np.where(df_join['inter']<0, 0, df_join['inter'])\n",
    "#     add 1 to avoid error\n",
    "    df_join['iou'] = np.round(df_join['inter']/(df_join['union']+1),2)\n",
    "    \n",
    "#     iou by sentence\n",
    "    iou_by_sen = df_join.groupby(['sentences_x'])['iou'].mean()\n",
    "#     iou total\n",
    "    final_iou = iou_by_sen.mean()\n",
    "    return iou_by_sen, final_iou"
   ]
  },
  {
   "cell_type": "code",
   "execution_count": 18,
   "metadata": {},
   "outputs": [
    {
     "name": "stdout",
     "output_type": "stream",
     "text": [
      "Final IoU: 0.4099779003448909\n"
     ]
    }
   ],
   "source": [
    "iou_segments = []\n",
    "\n",
    "label_dir = '../data/train/labels/'\n",
    "predict_dir = '../data/train/results/'\n",
    "\n",
    "for file in os.listdir(label_dir):\n",
    "    if file.endswith('.json'):\n",
    "        filename = file.replace('.json', '')\n",
    "        iou_sentence, iou_segment = IoU(label_dir, predict_dir, filename)\n",
    "        iou_segments.append(iou_segment)\n",
    "        \n",
    "print(f'Final IoU: {np.mean(iou_segments)}')"
   ]
  }
 ],
 "metadata": {
  "kernelspec": {
   "display_name": "Python 3.10.6 ('torch')",
   "language": "python",
   "name": "python3"
  },
  "language_info": {
   "codemirror_mode": {
    "name": "ipython",
    "version": 3
   },
   "file_extension": ".py",
   "mimetype": "text/x-python",
   "name": "python",
   "nbconvert_exporter": "python",
   "pygments_lexer": "ipython3",
   "version": "3.10.6"
  },
  "orig_nbformat": 4,
  "vscode": {
   "interpreter": {
    "hash": "6147aec5b681a010e2e7201370ff7403b0a132fd8a5165bf74011f9d779f7058"
   }
  }
 },
 "nbformat": 4,
 "nbformat_minor": 2
}
