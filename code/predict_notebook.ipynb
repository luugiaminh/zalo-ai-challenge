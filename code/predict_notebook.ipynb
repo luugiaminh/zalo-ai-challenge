{
 "cells": [
  {
   "cell_type": "code",
   "execution_count": null,
   "id": "7cf4a9bc-18a2-45c5-aa29-68e7d903d930",
   "metadata": {},
   "outputs": [],
   "source": [
    "import pandas as pd\n",
    "import os\n",
    "from time import time\n",
    "import json\n",
    "\n",
    "from predict import Wav2Vec2Aligner"
   ]
  },
  {
   "cell_type": "code",
   "execution_count": null,
   "id": "b498993a-f2d7-490b-81c5-ce5ebd64d8f4",
   "metadata": {},
   "outputs": [],
   "source": [
    "# Load model and resources\n",
    "DATA_PATH = '/data'\n",
    "RESULT_PATH = '/result'\n",
    "MODEL_PATH = '/code/saved_models/'\n",
    "\n",
    "SONGS_PATH = os.path.join(DATA_PATH, 'songs')\n",
    "LYRICS_PATH = os.path.join(DATA_PATH, 'lyrics')\n",
    "TIME_SUBMISSION_PATH = os.path.join(RESULT_PATH, 'time_submission.csv')\n",
    "JUPYTER_SUBMISSION_PATH = os.path.join(RESULT_PATH, 'jupyter_submission.zip')\n",
    "\n",
    "LYRICS_FILE_EXTENSION = 'json'\n",
    "\n",
    "# Ensure result directory is created\n",
    "if not os.path.exists(RESULT_PATH):\n",
    "    os.makedirs(RESULT_PATH)\n",
    "\n",
    "# Load models\n",
    "model = Wav2Vec2Aligner(MODEL_PATH, cuda=False)"
   ]
  },
  {
   "cell_type": "code",
   "execution_count": null,
   "id": "1fdedaa4-a83c-49c8-a88d-d59a5397ba95",
   "metadata": {},
   "outputs": [],
   "source": [
    "# Read test cases\n",
    "test_cases = []\n",
    "for song_file in os.listdir(SONGS_PATH):\n",
    "    filename = song_file.split('.')[0]\n",
    "    lyrics_file = os.path.join(LYRICS_PATH, f'{filename}.{LYRICS_FILE_EXTENSION}')\n",
    "    \n",
    "    with open(lyrics_file, 'r') as f:\n",
    "        label = json.load(f)\n",
    "\n",
    "        lyric = []\n",
    "        num_words_per_sentence = []\n",
    "        for sentence in label:\n",
    "            num_words = 0\n",
    "            for word in sentence['l']:\n",
    "                lyric.append(word['d'])\n",
    "                num_words += 1\n",
    "            num_words_per_sentence.append(num_words)\n",
    "\n",
    "        test_cases.append(\n",
    "            {\n",
    "                \"sent\": lyric,\n",
    "                \"num_words\": num_words_per_sentence,\n",
    "                \"wav_path\": os.path.join(SONGS_PATH, song_file),\n",
    "                \"out_path\": os.path.join(RESULT_PATH, filename + '.json')\n",
    "            }\n",
    "        )"
   ]
  },
  {
   "cell_type": "code",
   "execution_count": null,
   "id": "fe475090-db58-48a4-8230-e9537770f312",
   "metadata": {},
   "outputs": [],
   "source": [
    "# Save prediction\n",
    "prediction_times = []\n",
    "num_test_cases = len(test_cases)\n",
    "for i, item in enumerate(test_cases):\n",
    "    t1 = time()\n",
    "    model.align_single_sample(item)\n",
    "    t2 = time()\n",
    "\n",
    "    file_name = item['wav_path']\n",
    "    prediction_time = int(t2 * 1000 - t1 * 1000)\n",
    "    print(f'{i+1}/{num_test_cases} {file_name}: {prediction_time} ms')\n",
    "    \n",
    "    prediction_times.append((file_name, prediction_time))\n",
    "    \n",
    "# Save prediction time\n",
    "time_submission_df = pd.DataFrame(data=prediction_times, columns=['fname', 'time'])\n",
    "time_submission_df"
   ]
  },
  {
   "cell_type": "code",
   "execution_count": null,
   "id": "60a596f6-b975-4354-aae1-0de99e3c7cf3",
   "metadata": {},
   "outputs": [],
   "source": [
    "# Write time\n",
    "time_submission_df.to_csv(\n",
    "    TIME_SUBMISSION_PATH,\n",
    "    index=False, # Don't save index\n",
    ")\n",
    "\n",
    "# Package outputs\n",
    "!cd $RESULT_PATH && mkdir jupyter_submission && mv *.json jupyter_submission && zip -r jupyter_submission.zip jupyter_submission && rm -fr jupyter_submission"
   ]
  }
 ],
 "metadata": {
  "kernelspec": {
   "display_name": "Python 3.8.10 64-bit",
   "language": "python",
   "name": "python3"
  },
  "language_info": {
   "codemirror_mode": {
    "name": "ipython",
    "version": 3
   },
   "file_extension": ".py",
   "mimetype": "text/x-python",
   "name": "python",
   "nbconvert_exporter": "python",
   "pygments_lexer": "ipython3",
   "version": "3.8.10"
  },
  "vscode": {
   "interpreter": {
    "hash": "916dbcbb3f70747c44a77c7bcd40155683ae19c65e1c03b4aa3499c5328201f1"
   }
  }
 },
 "nbformat": 4,
 "nbformat_minor": 5
}
