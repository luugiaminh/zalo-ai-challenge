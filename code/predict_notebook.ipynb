{
 "cells": [
  {
   "cell_type": "code",
   "execution_count": 1,
   "id": "7cf4a9bc-18a2-45c5-aa29-68e7d903d930",
   "metadata": {},
   "outputs": [],
   "source": [
    "# Load model and resources\n",
    "import numpy as np\n",
    "import pandas as pd\n",
    "\n",
    "\n",
    "TIME_SUBMISSION_PATH = '/result/time_submission.csv'\n",
    "JUPYTER_SUBMISSION_PATH = '/result/jupyter_submission.zip'"
   ]
  },
  {
   "cell_type": "code",
   "execution_count": 2,
   "id": "2cd78f81-24f0-4c8f-a744-39e4f9147ca4",
   "metadata": {},
   "outputs": [],
   "source": [
    "# Read test cases"
   ]
  },
  {
   "cell_type": "code",
   "execution_count": 3,
   "id": "fe475090-db58-48a4-8230-e9537770f312",
   "metadata": {},
   "outputs": [],
   "source": [
    "# Predict and save outputs\n",
    "time_submission_df = pd.DataFrame(columns=['fname', 'time'])\n",
    "\n",
    "# Save prediction\n",
    "\n",
    "\n",
    "# Save prediction time\n",
    "time_submission_df.to_csv(\n",
    "    TIME_SUBMISSION_PATH,\n",
    "    index=False, # Don't save index\n",
    ")"
   ]
  }
 ],
 "metadata": {
  "kernelspec": {
   "display_name": "Python 3 (ipykernel)",
   "language": "python",
   "name": "python3"
  },
  "language_info": {
   "codemirror_mode": {
    "name": "ipython",
    "version": 3
   },
   "file_extension": ".py",
   "mimetype": "text/x-python",
   "name": "python",
   "nbconvert_exporter": "python",
   "pygments_lexer": "ipython3",
   "version": "3.8.10"
  }
 },
 "nbformat": 4,
 "nbformat_minor": 5
}
